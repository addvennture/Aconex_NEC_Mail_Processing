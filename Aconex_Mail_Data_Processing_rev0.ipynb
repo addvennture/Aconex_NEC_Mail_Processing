{
  "nbformat": 4,
  "nbformat_minor": 0,
  "metadata": {
    "colab": {
      "name": "Aconex_Mail_Data_Processing.ipynb",
      "provenance": [],
      "collapsed_sections": [],
      "toc_visible": true,
      "mount_file_id": "1iUqk-BRk31el5GODV6iOsT5FU4md90jP",
      "authorship_tag": "ABX9TyNxR/A7Ho/FXBwWmksQcIYn",
      "include_colab_link": true
    },
    "kernelspec": {
      "name": "python3",
      "display_name": "Python 3"
    }
  },
  "cells": [
    {
      "cell_type": "markdown",
      "metadata": {
        "id": "view-in-github",
        "colab_type": "text"
      },
      "source": [
        "<a href=\"https://colab.research.google.com/github/addvennture/Aconex_NEC_Mail_Processing/blob/main/Aconex_Mail_Data_Processing_rev0.ipynb\" target=\"_parent\"><img src=\"https://colab.research.google.com/assets/colab-badge.svg\" alt=\"Open In Colab\"/></a>"
      ]
    },
    {
      "cell_type": "markdown",
      "metadata": {
        "id": "2pO5mo8QRqrG"
      },
      "source": [
        "# (0) INTRODUCTION"
      ]
    },
    {
      "cell_type": "markdown",
      "metadata": {
        "id": "jD3E7YEn_HJC"
      },
      "source": [
        "This code takes data from the Aconex_Mail_Data_Query and processes it to pull out commercial emails for projects using the NEC mail configuration. The output is a spreadsheet summary of mail data which is saved to users google drive account. "
      ]
    },
    {
      "cell_type": "markdown",
      "metadata": {
        "id": "ASGBS_mxfRba"
      },
      "source": [
        "# (1) IMPORTING REFERENCED LIBRARIES"
      ]
    },
    {
      "cell_type": "code",
      "metadata": {
        "id": "RuxKJG6oDI0X"
      },
      "source": [
        "import requests as rq\n",
        "import xml.etree.ElementTree as ET\n",
        "import pandas as pd\n",
        "import numpy as np\n",
        "import csv\n",
        "%load_ext google.colab.data_table\n",
        "\n",
        "# Import PyDrive and associated libraries.\n",
        "# This only needs to be done once in a notebook.\n",
        "from pydrive.auth import GoogleAuth\n",
        "from pydrive.drive import GoogleDrive\n",
        "from google.colab import auth\n",
        "from oauth2client.client import GoogleCredentials"
      ],
      "execution_count": null,
      "outputs": []
    },
    {
      "cell_type": "markdown",
      "metadata": {
        "id": "CoPI0fP-fZqZ"
      },
      "source": [
        "# (2) CONNECTING TO GOOGLE DRIVE AND IMPORTING DATA FOR PROCESSING"
      ]
    },
    {
      "cell_type": "code",
      "metadata": {
        "id": "UJdVMDp84ryh"
      },
      "source": [
        "# Authenticate and create the PyDrive client.\n",
        "# This only needs to be done once in a notebook.\n",
        "auth.authenticate_user()\n",
        "gauth = GoogleAuth()\n",
        "gauth.credentials = GoogleCredentials.get_application_default()\n",
        "drive = GoogleDrive(gauth)"
      ],
      "execution_count": null,
      "outputs": []
    },
    {
      "cell_type": "markdown",
      "metadata": {
        "id": "ORYxBZmLfjn9"
      },
      "source": [
        "# (3) SETTING & CHECKING THE ACONEX API CONNECTION"
      ]
    },
    {
      "cell_type": "code",
      "metadata": {
        "id": "FDZG1LRyEIO6",
        "cellView": "form"
      },
      "source": [
        "#ENTER ACONEX API CREDENTIALS\n",
        "#@title ENTER ACONEX API CREDENTIALS\n",
        "username = \"\" #@param {type:\"string\"}\n",
        "password = \"\" #@param {type:\"string\"}\n",
        "key = \"\" #@param {type:\"string\"}\n",
        "b_url='https://uk1.aconex.co.uk/api/' #base path for all Aconex web services\n",
        "headers={'Accept': 'application/vnd.aconex.mail.v2+xml','Authorization': 'Bearer {0}'.format(key)}"
      ],
      "execution_count": null,
      "outputs": []
    },
    {
      "cell_type": "markdown",
      "metadata": {
        "id": "3bbY39MlfyR0"
      },
      "source": [
        "# (4) DEFINED FUNCTIIONS"
      ]
    },
    {
      "cell_type": "code",
      "metadata": {
        "id": "14gasVrNCxJA"
      },
      "source": [
        "#FUNCTION CAPTURES RELEVANT FIELD DATA FOR IMPLEMENTED CE's\n",
        "def ice_tots(prj_id):\n",
        "  ice_tot_cost=pd.to_numeric(grouped.get_group((prj_id,'(ECC) Compensation Event Implementation Instruction'))['Value 2']).sum()\n",
        "  ice_tot_delay=pd.to_numeric(grouped.get_group((prj_id,'(ECC) Compensation Event Implementation Instruction'))['Value 3']).sum()\n",
        "  return (prj_id),(ice_tot_cost),(ice_tot_delay)"
      ],
      "execution_count": null,
      "outputs": []
    },
    {
      "cell_type": "code",
      "metadata": {
        "id": "8nXwzCwiEm5I"
      },
      "source": [
        "#FUNCTION CAPTURES RELEVANT FIELD DATA FOR PAYMENT CERTS\n",
        "def paycerts_tots(prj_id):\n",
        "  paycerts_tot=pd.to_numeric(grouped.get_group((prj_id,'(ECC) Payment Certification'))['Value 2']).sum()\n",
        "  #ice_tot_delay=pd.to_numeric(grouped.get_group((prj_id,'(ECC) Compensation Event Implementation Instruction'))['Value 3']).sum()\n",
        "  return (prj_id),(paycerts_tot)"
      ],
      "execution_count": null,
      "outputs": []
    },
    {
      "cell_type": "markdown",
      "metadata": {
        "id": "20UTYl1iO_YE"
      },
      "source": [
        "# (5) GENERATING PROJECT SUMMARY DATAFRAME"
      ]
    },
    {
      "cell_type": "code",
      "metadata": {
        "id": "PWBXWFdQSDyW"
      },
      "source": [
        "#RETRIEVING PROJECT LIST FOR USER:\n",
        "prj_headers={'User':username,'Authorization': 'Bearer {0}'.format(key)}\n",
        "prj_data=rq.get('https://uk1.aconex.co.uk/api/projects',auth=(username,password),headers=prj_headers)\n",
        "prj_root=ET.fromstring(prj_data.text) #Bringing data into element tree for processing\n",
        "#[elem.tag for elem in prj_root.iter()] #Optional step to check data structure\n",
        "#prj_root.attrib #Check on total number of projects "
      ],
      "execution_count": null,
      "outputs": []
    },
    {
      "cell_type": "code",
      "metadata": {
        "id": "bhyizjJcSPyg"
      },
      "source": [
        "#PROCESSING PROJECT DATA FOR ALL PROJECTS TO POPULATE INITIAL SUMMARY TABLE:\n",
        "prj_ids=[]\n",
        "for child in prj_root.iter('ProjectId'):\n",
        "    prj_ids.append(child.text)\n",
        "\n",
        "prj_code=[] #generating list of project codes\n",
        "for child in prj_root.iter('ProjectCode'):\n",
        "    sew_cer.append(child.text)\n",
        "    \n",
        "prj_name=[]\n",
        "for child in prj_root.iter('ProjectName'):\n",
        "    prj_name.append(child.text)\n",
        "\n",
        "prj_val=[]\n",
        "for child in prj_root.iter('ProjectValue'):\n",
        "    prj_val.append(child.text)\n",
        "\n",
        "strt_date=[]\n",
        "for child in prj_root.iter('StartDate'):\n",
        "    strt_date.append(child.text)\n",
        "    \n",
        "stop_date=[]\n",
        "for child in prj_root.iter('StopDate'):\n",
        "    stop_date.append(child.text)"
      ],
      "execution_count": null,
      "outputs": []
    },
    {
      "cell_type": "code",
      "metadata": {
        "id": "KZjBChlzSS6u"
      },
      "source": [
        "#Generates dataframe of project data\n",
        "prjs_df=pd.DataFrame(data=({'Aconex Id':prj_ids,'Project Code':prj_code,'Name':prj_name,'Value £':prj_val,'Start Date':strt_date,'End Date':stop_date}))\n",
        "#prjs_df"
      ],
      "execution_count": null,
      "outputs": []
    },
    {
      "cell_type": "markdown",
      "metadata": {
        "id": "85zY4FEze7cy"
      },
      "source": [
        "# (6) PROCESSING AND CLEANING PROJECT MAIL DATA"
      ]
    },
    {
      "cell_type": "code",
      "metadata": {
        "id": "eGM0AQbR207w"
      },
      "source": [
        "#@title SET FILE PATH TO IMPORT MAIL DATA FROM { display-mode: \"form\" }\n",
        "file_path = \"\" #@param {type:\"string\"}\n",
        "#IMPORTING CSV FILE AND CREATING A PROJECT MAIL DATAFRAME\n",
        "raw_df=pd.read_csv(file_path,index_col='Mail Type',names=['Num','Aconex Id','Mail Id','Mail Type','Sent Date','Status','Subject','Field 1','Value 1','Field 2','Value 2','Field 3','Value 3','Field 4','Value 4','Field 5','Value 5','Field 6','Value 6','Field 7','Value 7','Field 8','Value 8','Field 9','Value 9','Field 10','Value 10','Field 11','Value 11'])\n",
        "#raw_df"
      ],
      "execution_count": null,
      "outputs": []
    },
    {
      "cell_type": "code",
      "metadata": {
        "id": "A3IxMeqC4VZu"
      },
      "source": [
        "md_df=(raw_df.drop(columns='Num',index=['Workflow Transmittal','Transmittal','Response to RFI','General Correspondence','Technical Query','Advice','New Project Request','Response to Technical Query','Workflow Transmittal','Action Response','Action Item','Request For Information','Supplier Document Transmittal'],errors='ignore')\n",
        "            .set_index('Aconex Id',append=True).drop_duplicates()) #cleaning dataframe\n",
        "#md_df"
      ],
      "execution_count": null,
      "outputs": []
    },
    {
      "cell_type": "code",
      "metadata": {
        "id": "1YBZcH_LZ9ey"
      },
      "source": [
        "#SUMMARISING PROJECT MAIL DATA FOR EACH PROJECT\n",
        "grouped=md_df.groupby(['Aconex Id','Mail Type']) #grouping data by project and mail type\n",
        "mail_smry=grouped.count().drop(labels=['Sent Date','Subject','Field 1','Value 1','Field 2','Value 2','Field 3','Value 3','Field 4','Value 4','Field 5','Value 5','Field 6','Value 6','Field 7','Value 7','Field 8','Value 8','Field 9','Value 9','Field 10','Value 10','Field 11','Value 11'],axis=1)\n",
        "mail_smry['Outstanding']=mail_smry['Mail Id']-mail_smry['Status'] #computes outstanding mails and adds column to dataframe\n",
        "#mail_smry"
      ],
      "execution_count": null,
      "outputs": []
    },
    {
      "cell_type": "markdown",
      "metadata": {
        "id": "uXU2fGiP4Ryb"
      },
      "source": [
        "# (7) ADDING SUMMARY STATISTICS TO PROJECT SUMMARY DATAFRAME"
      ]
    },
    {
      "cell_type": "code",
      "metadata": {
        "id": "Xzap_TJ9I_c8"
      },
      "source": [
        "#Getting implemented CE and Payment Cert data and creating individual dataframes for each\n",
        "ice_data=[] \n",
        "for prj_id in prj_ids:\n",
        "  try:\n",
        "    ice_data.append(ice_tots(str(prj_id)))\n",
        "  except:\n",
        "    ice_data.append([prj_id,0,0])\n",
        "ice_df=pd.DataFrame(ice_data,columns=['Aconex Id','ICEs Value (£)','ICEs Delay (days)'])\n",
        "#ice_df\n",
        "\n",
        "paycert_data=[]\n",
        "for prj_id in prj_ids:\n",
        "  try:\n",
        "    paycert_data.append(paycerts_tots(str(prj_id)))\n",
        "  except:\n",
        "    paycert_data.append([prj_id,0])\n",
        "paycert_df=pd.DataFrame(paycert_data,columns=['Aconex Id','Certified (£)'])\n",
        "#paycert_data\n",
        "\n",
        "combined_df=ice_df.merge(paycert_df,how='outer',on='Aconex Id') #Combining implemented CE and Payment Cert. dataframes\n",
        "#combined_df"
      ],
      "execution_count": null,
      "outputs": []
    },
    {
      "cell_type": "code",
      "metadata": {
        "id": "Z_7oRCXYVCqD"
      },
      "source": [
        "#MERGING PROJECT SUMMARY DATAFRAME WITH ICE AND PAY CERT DATAFRAME TO GENERATE PROJECT SUMMAY OUTPUT\n",
        "prjs_smry=prjs_df.merge(combined_df,how='outer',on='Aconex Id')\n",
        "#prjs_smry"
      ],
      "execution_count": null,
      "outputs": []
    },
    {
      "cell_type": "markdown",
      "metadata": {
        "id": "KvleFQ5C8shl"
      },
      "source": [
        "# (8) OUTPUTTING DATAFRAMES TO MS EXCEL AND SAVING TO GOOGLE DRIVE\n"
      ]
    },
    {
      "cell_type": "code",
      "metadata": {
        "id": "iTgE1grUBsq3"
      },
      "source": [
        "with pd.ExcelWriter('report.xlsx') as writer:\n",
        "  prjs_smry.to_excel(writer,sheet_name='Prj Smry')\n",
        "  mail_smry.to_excel(writer,sheet_name='Mail Smry')\n",
        "  md_df.to_excel(writer,sheet_name='Mail Data')"
      ],
      "execution_count": null,
      "outputs": []
    },
    {
      "cell_type": "code",
      "metadata": {
        "colab": {
          "base_uri": "https://localhost:8080/"
        },
        "id": "-dNQ0imNDWrc",
        "cellView": "form",
        "outputId": "6fd5de7e-e093-44c4-ba94-b8faf91449b9"
      },
      "source": [
        "#@title SET OUTPUT FILE NAME FOR GOOGLE DRIVE\n",
        "rprt_date = \"2021-01-31\" #@param {type:\"date\"}\n",
        "#Option to permanently save temporary csv file to Google Drive.\n",
        "#Note requires authentication in Section 3.\n",
        "\n",
        "ftd=drive.CreateFile({'title':'Aconex_Smry_{0}'.format(rprt_date)}) #Creates file with a name matching the report date\n",
        "ftd.SetContentFile('/content/report.xlsx') #sets processed mail data from above cells as content to upload to new file\n",
        "ftd.Upload() #uploads content \n",
        "print('title:%s, id:%s' % (ftd['title'],ftd['id'])) #prints file name and google drive id"
      ],
      "execution_count": null,
      "outputs": [
        {
          "output_type": "stream",
          "text": [
            "title:Aconex_Smry_2021-01-31, id:1VMHPSoeV5G6I-4NxngsmQ8KhWqLQQClZ\n"
          ],
          "name": "stdout"
        }
      ]
    }
  ]
}